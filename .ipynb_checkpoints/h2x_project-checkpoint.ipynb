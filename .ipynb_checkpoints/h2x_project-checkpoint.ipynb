{
 "cells": [
  {
   "cell_type": "code",
   "execution_count": 15,
   "id": "6dbeb71c-f5fa-4a87-9811-bfe81a83e62d",
   "metadata": {},
   "outputs": [],
   "source": [
    "import pandas as pd\n",
    "import numpy as np"
   ]
  },
  {
   "cell_type": "code",
   "execution_count": 17,
   "id": "f0df659c-0522-4535-82f8-c3c528cca00e",
   "metadata": {},
   "outputs": [],
   "source": [
    "df = pd.read_excel('data/Data2022.xlsx')"
   ]
  },
  {
   "cell_type": "code",
   "execution_count": 35,
   "id": "5171d428-bd16-4dc2-bbcc-52089eea234b",
   "metadata": {},
   "outputs": [
    {
     "name": "stdout",
     "output_type": "stream",
     "text": [
      "Index(['GRADE', 'STUDID', 'Object RAN AP_FALL', 'Object RAN_TIME_FALL',\n",
      "       'Object RAN SE_FALL', 'Letter RAN AP_FALL', 'Letter RAN_TIME_FALL',\n",
      "       'Letter RAN SE_FALL', 'letter names AP_FALL', 'letter names TH_FALL',\n",
      "       ...\n",
      "       'Unnamed: 253', 'Unnamed: 254', 'Unnamed: 255', 'Unnamed: 256',\n",
      "       'Unnamed: 257', 'Unnamed: 258', 'Unnamed: 259', 'Unnamed: 260',\n",
      "       'Unnamed: 261', 'Unnamed: 262'],\n",
      "      dtype='object', length=263)\n"
     ]
    }
   ],
   "source": [
    "print(df.columns)"
   ]
  },
  {
   "cell_type": "code",
   "execution_count": null,
   "id": "9b1325f6-3b4f-4ac5-8e43-b5997f4cd932",
   "metadata": {},
   "outputs": [],
   "source": []
  }
 ],
 "metadata": {
  "kernelspec": {
   "display_name": "Python 3 (ipykernel)",
   "language": "python",
   "name": "python3"
  },
  "language_info": {
   "codemirror_mode": {
    "name": "ipython",
    "version": 3
   },
   "file_extension": ".py",
   "mimetype": "text/x-python",
   "name": "python",
   "nbconvert_exporter": "python",
   "pygments_lexer": "ipython3",
   "version": "3.12.4"
  }
 },
 "nbformat": 4,
 "nbformat_minor": 5
}
